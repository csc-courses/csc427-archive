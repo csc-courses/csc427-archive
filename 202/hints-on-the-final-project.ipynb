{
 "cells": [
  {
   "cell_type": "code",
   "execution_count": 1,
   "metadata": {},
   "outputs": [
    {
     "name": "stdout",
     "output_type": "stream",
     "text": [
      "a note book\n"
     ]
    }
   ],
   "source": [
    "print('a note book')"
   ]
  },
  {
   "cell_type": "code",
   "execution_count": 4,
   "metadata": {},
   "outputs": [
    {
     "name": "stdout",
     "output_type": "stream",
     "text": [
      "x1_0_1\n",
      "x1_0_2\n",
      "x1_0_3\n",
      "x1_1_1\n",
      "x1_1_2\n",
      "x1_1_3\n",
      "x1_2_1\n",
      "x1_2_2\n",
      "x1_2_3\n",
      "x1_3_1\n",
      "x1_3_2\n",
      "x1_3_3\n",
      "x1_4_1\n",
      "x1_4_2\n",
      "x1_4_3\n",
      "x1_5_1\n",
      "x1_5_2\n",
      "x1_5_3\n",
      "x1_6_1\n",
      "x1_6_2\n",
      "x1_6_3\n",
      "x1_7_1\n",
      "x1_7_2\n",
      "x1_7_3\n",
      "x1_8_1\n",
      "x1_8_2\n",
      "x1_8_3\n",
      "x1_9_1\n",
      "x1_9_2\n",
      "x1_9_3\n",
      "x1_T, x1_F\n"
     ]
    }
   ],
   "source": [
    "# how do you \"create\" vertices\n",
    "\n",
    "\n",
    "variable_name = 'x1'\n",
    "for clause_number in range(10):\n",
    "    for variable_number in range (1,4):\n",
    "        var = '{}_{}_{}'.format(variable_name, clause_number, variable_number)\n",
    "        print(var)\n",
    "\n",
    "# vertices .. \n",
    "print('{}_T, {}_F'.format(variable_name, variable_name))"
   ]
  },
  {
   "cell_type": "code",
   "execution_count": null,
   "metadata": {},
   "outputs": [],
   "source": []
  }
 ],
 "metadata": {
  "kernelspec": {
   "display_name": "Python 3",
   "language": "python",
   "name": "python3"
  },
  "language_info": {
   "codemirror_mode": {
    "name": "ipython",
    "version": 3
   },
   "file_extension": ".py",
   "mimetype": "text/x-python",
   "name": "python",
   "nbconvert_exporter": "python",
   "pygments_lexer": "ipython3",
   "version": "3.6.4"
  }
 },
 "nbformat": 4,
 "nbformat_minor": 2
}
