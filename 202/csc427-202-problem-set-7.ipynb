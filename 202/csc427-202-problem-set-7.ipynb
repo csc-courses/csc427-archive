{
 "cells": [
  {
   "cell_type": "markdown",
   "metadata": {},
   "source": [
    "***\n",
    "\n",
    "## Problem Set 7\n",
    "\n",
    ">CSC427, semester 202 (jan-may 2020)\n",
    "<br>\n",
    "burton rosenberg\n",
    "<br>\n",
    "univ of miami\n",
    "<br>\n",
    "(c) 2020 all rights reserved\n",
    "\n",
    "***"
   ]
  },
  {
   "cell_type": "markdown",
   "metadata": {},
   "source": [
    "Exercises are from the class testbook (3ird edition Sipser), pages 210-211."
   ]
  },
  {
   "cell_type": "markdown",
   "metadata": {},
   "source": [
    "### Exercise 4.1\n",
    "\n",
    "_see the book and write your answer here_\n",
    "\n",
    "Hint: the answers are provided."
   ]
  },
  {
   "cell_type": "markdown",
   "metadata": {},
   "source": [
    "### Exercise 4.2\n",
    "\n",
    "_see the book and write your answer here_\n",
    "\n",
    "\n",
    "Hint: Could you write a program that carries out the process described on pages 66-69? How would you then combine that work with an additional testing step? Why is this decidable, not recognizable?"
   ]
  },
  {
   "cell_type": "markdown",
   "metadata": {},
   "source": [
    "### Exercise 4.3\n",
    "\n",
    "_see the book and write your answer here_\n",
    "\n",
    "Hint: you can refer to Theorem 4.4 about the related language, E_DFA."
   ]
  },
  {
   "cell_type": "markdown",
   "metadata": {},
   "source": [
    "### Exercise 4.4\n",
    "\n",
    "_see the book and write your answer here_\n",
    "\n",
    "Hint: you can refer to Theorem 4.7."
   ]
  },
  {
   "cell_type": "markdown",
   "metadata": {},
   "source": [
    "### Exercise 4.5\n",
    "\n",
    "_see the book and write your answer here_\n",
    "\n",
    "Hint: the answers are provided."
   ]
  },
  {
   "cell_type": "markdown",
   "metadata": {},
   "source": [
    "### Exercise 4.6\n",
    "\n",
    "_see the book and write your answer here_\n"
   ]
  },
  {
   "cell_type": "markdown",
   "metadata": {},
   "source": [
    "### Exercise 4.7\n",
    "\n",
    "The book asks: Let B be the set of all infinite sequences over {0,1}. Show that B is uncountable using a proof by diagonalization.\n",
    "\n",
    "Make sure you understand diagonalization by completing the following program so that it passes all tests.\n",
    "\n",
    "Then here say what crucial limitation there is on infinity so that when the code below is (in our minds) extended to infinity, that really the truth whether an infinitely long string is difference from an infinitely long list of infinitely long strings. That is, what part of the work is \"finite enough\" to claim there is an algorithm.\n"
   ]
  },
  {
   "cell_type": "code",
   "execution_count": 1,
   "metadata": {},
   "outputs": [],
   "source": [
    "class problem_4_7:\n",
    "    \n",
    "    @staticmethod\n",
    "    def diagonalize(lol):\n",
    "        # lol is list of list , not laughting out loud!\n",
    "        # (no laughing ... this is serious)\n",
    "        \n",
    "        num_lists = len(lol)\n",
    "        for l in lol:\n",
    "            if len(l) < num_lists: return None\n",
    "            for ele in l:\n",
    "                if ele not in (0,1): return None\n",
    "        d = [0]*num_lists\n",
    "        \n",
    "        pass\n",
    "        return d\n",
    "        \n",
    "    @staticmethod\n",
    "    def list_matches_none(l_unique,lol):\n",
    "        for l in lol:\n",
    "            if all([i==j for i,j in zip(l_unique,l)]):\n",
    "                return False\n",
    "        return True\n",
    "    \n",
    "    "
   ]
  },
  {
   "cell_type": "code",
   "execution_count": 2,
   "metadata": {},
   "outputs": [
    {
     "name": "stdout",
     "output_type": "stream",
     "text": [
      "False\n",
      "lol\t [[0, 0, 0, 0], [0, 1, 0, 0], [1, 0, 1, 1], [0, 1, 0, 0]]\n",
      "diag\t [0, 0, 0, 0]\n",
      "False\n"
     ]
    }
   ],
   "source": [
    "from random import randint \n",
    "\n",
    "#\n",
    "# testing code\n",
    "#\n",
    "\n",
    "def super_simple_test():\n",
    "    lol = [ [0,0,0,0], [1,1,1,1],[0,1,0,1],[1,0,1,0]]\n",
    "    l_diagonalized = problem_4_7.diagonalize(lol)\n",
    "    return problem_4_7.list_matches_none( l_diagonalized,lol)\n",
    "\n",
    "def random_test(n,verbose=False):\n",
    "    \n",
    "    def make_random_list(n):\n",
    "        l = [0]*n\n",
    "        for i in range(n):\n",
    "            l[i] = randint(0,1)\n",
    "        return l\n",
    "\n",
    "    lol = [[0]*n]\n",
    "    for i in range(n-1):\n",
    "        lol += [make_random_list(n)]\n",
    "\n",
    "    l_diagonalized = problem_4_7.diagonalize(lol)\n",
    "    if verbose: \n",
    "        print(\"lol\\t\",lol)\n",
    "        print(\"diag\\t\", l_diagonalized)\n",
    "    return problem_4_7.list_matches_none( l_diagonalized,lol)\n",
    "        \n",
    "\n",
    "print(super_simple_test())\n",
    "print(random_test(4,verbose=True))\n"
   ]
  },
  {
   "cell_type": "markdown",
   "metadata": {},
   "source": [
    "### Exercise 4.8\n",
    "\n",
    "The book asks, Show that the set of all triples of natural numbers is countable.\n",
    "\n",
    "The code below gives a method that the set of all pairs of numbers are mapped in an invertible way to the set of numbers. \n",
    "\n",
    "Complete the code to map in an invertible way the set of all triples of natural numbers.\n",
    "\n",
    "Explain how this shows countablity.\n"
   ]
  },
  {
   "cell_type": "code",
   "execution_count": 3,
   "metadata": {},
   "outputs": [],
   "source": [
    "class problem_4_8:\n",
    "    \n",
    "    @staticmethod\n",
    "    def triangle_number(i):\n",
    "        assert(i>=0)\n",
    "        return int(i*(i+1)/2)\n",
    "    \n",
    "    @staticmethod\n",
    "    def foldup_pair_to_index(p):\n",
    "        (x,y) = p\n",
    "        assert(x>=0 and y>=0)\n",
    "        return problem_4_8.triangle_number(x+y)+y\n",
    "    \n",
    "    @staticmethod\n",
    "    def unfold_index_to_pair(n):\n",
    "        assert(n>=0)\n",
    "        # step one\n",
    "        n += 1\n",
    "        j = 1\n",
    "        while problem_4_8.triangle_number(j)<n:\n",
    "            j += 1\n",
    "        assert(n<=problem_4_8.triangle_number(j))\n",
    "        assert(n>problem_4_8.triangle_number(j-1))   \n",
    "        # step two\n",
    "        x = problem_4_8.triangle_number(j) - n\n",
    "        y = n + j - problem_4_8.triangle_number(j) - 1\n",
    "        return( x,y )\n",
    "\n",
    "    @staticmethod\n",
    "    def foldup_triple_to_index(p):\n",
    "        (i,j,k) = p\n",
    "        assert(i>=0 and j>=0 and k>=0)\n",
    "        \n",
    "        pass\n",
    "        \n",
    "        return 0\n",
    "    \n",
    "    @staticmethod\n",
    "    def unfold_index_to_triple(n):\n",
    "        assert(n>=0)\n",
    "        pass\n",
    "        \n",
    "        return (0,0,0)\n"
   ]
  },
  {
   "cell_type": "code",
   "execution_count": 4,
   "metadata": {},
   "outputs": [
    {
     "name": "stdout",
     "output_type": "stream",
     "text": [
      "(0, 0) 0\n",
      "(1, 0) 1\n",
      "(0, 1) 2\n",
      "(2, 0) 3\n",
      "(1, 1) 4\n",
      "(0, 2) 5\n",
      "(3, 0) 6\n",
      "(2, 1) 7\n",
      "(1, 2) 8\n",
      "(0, 3) 9\n",
      "(4, 0) 10\n",
      "(3, 1) 11\n",
      "(2, 2) 12\n",
      "(1, 3) 13\n",
      "(0, 4) 14\n",
      "(5, 0) 15\n",
      "(4, 1) 16\n",
      "(3, 2) 17\n",
      "(2, 3) 18\n",
      "(1, 4) 19\n",
      "(0, 5) 20\n",
      "(6, 0) 21\n",
      "(5, 1) 22\n",
      "(4, 2) 23\n",
      "(3, 3) 24\n",
      "(2, 4) 25\n",
      "(1, 5) 26\n",
      "(0, 6) 27\n",
      "(7, 0) 28\n",
      "(6, 1) 29\n",
      "True\n",
      "(0, 0, 0) 0\n",
      "(0, 0, 0) 0\n",
      "(0, 0, 0) 0\n",
      "(0, 0, 0) 0\n",
      "(0, 0, 0) 0\n",
      "(0, 0, 0) 0\n",
      "(0, 0, 0) 0\n",
      "(0, 0, 0) 0\n",
      "(0, 0, 0) 0\n",
      "(0, 0, 0) 0\n",
      "(0, 0, 0) 0\n",
      "(0, 0, 0) 0\n",
      "(0, 0, 0) 0\n",
      "(0, 0, 0) 0\n",
      "(0, 0, 0) 0\n",
      "(0, 0, 0) 0\n",
      "(0, 0, 0) 0\n",
      "(0, 0, 0) 0\n",
      "(0, 0, 0) 0\n",
      "(0, 0, 0) 0\n",
      "(0, 0, 0) 0\n",
      "(0, 0, 0) 0\n",
      "(0, 0, 0) 0\n",
      "(0, 0, 0) 0\n",
      "(0, 0, 0) 0\n",
      "(0, 0, 0) 0\n",
      "(0, 0, 0) 0\n",
      "(0, 0, 0) 0\n",
      "(0, 0, 0) 0\n",
      "(0, 0, 0) 0\n",
      "False\n"
     ]
    }
   ],
   "source": [
    "#\n",
    "# testing code\n",
    "#\n",
    "\n",
    "def foldup_pair_test(N):\n",
    "    checks_out = True\n",
    "    for i in range(N):\n",
    "        \n",
    "        unfolded = problem_4_8.unfold_index_to_pair(i)\n",
    "        folded = problem_4_8.foldup_pair_to_index(unfolded)\n",
    "\n",
    "        checks_out = checks_out and (folded==i)\n",
    "        print(unfolded, folded)\n",
    "    \n",
    "    return checks_out\n",
    "        \n",
    "\n",
    "def foldup_triple_test(N):\n",
    "    checks_out = True\n",
    "    for i in range(N):\n",
    "        \n",
    "        unfolded = problem_4_8.unfold_index_to_triple(i)\n",
    "        folded = problem_4_8.foldup_triple_to_index(unfolded)\n",
    "\n",
    "        checks_out = checks_out and (folded==i)\n",
    "        print(unfolded, folded)\n",
    "        \n",
    "    return checks_out\n",
    "     \n",
    "    \n",
    "N = 30\n",
    "print(foldup_pair_test(N))\n",
    "print(foldup_triple_test(N))\n",
    "\n"
   ]
  },
  {
   "cell_type": "code",
   "execution_count": null,
   "metadata": {},
   "outputs": [],
   "source": []
  }
 ],
 "metadata": {
  "kernelspec": {
   "display_name": "Python 3",
   "language": "python",
   "name": "python3"
  },
  "language_info": {
   "codemirror_mode": {
    "name": "ipython",
    "version": 3
   },
   "file_extension": ".py",
   "mimetype": "text/x-python",
   "name": "python",
   "nbconvert_exporter": "python",
   "pygments_lexer": "ipython3",
   "version": "3.6.4"
  }
 },
 "nbformat": 4,
 "nbformat_minor": 2
}
