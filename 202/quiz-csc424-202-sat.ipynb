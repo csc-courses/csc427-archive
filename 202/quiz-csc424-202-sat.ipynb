{
 "cells": [
  {
   "cell_type": "markdown",
   "metadata": {},
   "source": [
    "***\n",
    "\n",
    "## Quiz! \n",
    "\n",
    ">CSC427, semester 202 (jan-may 2020)\n",
    "<br>\n",
    "burton rosenberg\n",
    "<br>\n",
    "univ of miami\n",
    "<br>\n",
    "(c) 2020 all rights reserved\n",
    "<br><br>\n",
    "Created: 20 April 2020\n",
    "<br>\n",
    "Last Update: 20 April 2020\n",
    "***\n"
   ]
  },
  {
   "cell_type": "markdown",
   "metadata": {},
   "source": [
    "### My name is: _put your name here_\n",
    "\n",
    "Send this drag and drop into a Slack DM with Zishi."
   ]
  },
  {
   "cell_type": "markdown",
   "metadata": {},
   "source": [
    "### This is the code that checks a CNF for satisfiablity"
   ]
  },
  {
   "cell_type": "code",
   "execution_count": 1,
   "metadata": {},
   "outputs": [],
   "source": [
    " ### how do we represent this in python?\n",
    "\n",
    "## for a variable named v, represent it either (v,0) or (v,1), if it is not negated or negated.\n",
    "## a clause is a list of such variable\n",
    "## a formula is a list of such clauses\n",
    "\n",
    "def evaluate_cnf(formula, assignment):\n",
    "    \n",
    "    def eval_disjunct_helper(disjunct):\n",
    "        for variable in disjunct:\n",
    "            if variable[0] in assignment:\n",
    "                if variable[1] == 0 and assignment[variable[0]]:\n",
    "                    return True\n",
    "                if variable[1] == 1 and not assignment[variable[0]]:\n",
    "                    return True\n",
    "        return False\n",
    "    \n",
    "    for clause in formula:\n",
    "        if not eval_disjunct_helper(clause): return False\n",
    "    return True\n",
    "\n",
    "def check_my_work(forumla, sat_assign, non_sat_assign):\n",
    "    on_sat = evaluate_cnf(formula,sat_assign)  \n",
    "    un_sat = evaluate_cnf(formula,non_sat_assign) \n",
    "    \n",
    "    if on_sat == True and un_sat == False:\n",
    "        print(\"You are correct! :)\")\n",
    "        return\n",
    "    print(\"That is not correct :(\")\n",
    "\n"
   ]
  },
  {
   "cell_type": "markdown",
   "metadata": {},
   "source": [
    "### Problem 1\n",
    "\n",
    "Challenge Formula: $( a \\lor b \\lor c )$\n",
    "\n",
    "Pleae set the values of the variables a, b and c to make sa satisfy the formula and\n",
    "nsa NOT satisfy the formula"
   ]
  },
  {
   "cell_type": "code",
   "execution_count": 2,
   "metadata": {},
   "outputs": [
    {
     "name": "stdout",
     "output_type": "stream",
     "text": [
      "That is not correct :(\n"
     ]
    }
   ],
   "source": [
    "\n",
    "formula = [[('a',0),('b',0),('c',0)]]\n",
    "\n",
    "sa = { 'a': False, 'b':False, 'c':False }\n",
    "nsa = { 'a': False, 'b':False, 'c':False }\n",
    "check_my_work(formula,sa,nsa)        \n"
   ]
  },
  {
   "cell_type": "markdown",
   "metadata": {},
   "source": [
    "### Problem 2\n",
    "\n",
    "Challenge Formula: $( \\neg a \\lor \\neg b \\lor \\neg c )$\n",
    "\n",
    "Pleae set the values of the variables a, b and c to make sa satisfy the formula and\n",
    "nsa NOT satisfy the formula"
   ]
  },
  {
   "cell_type": "code",
   "execution_count": 3,
   "metadata": {},
   "outputs": [
    {
     "name": "stdout",
     "output_type": "stream",
     "text": [
      "That is not correct :(\n"
     ]
    }
   ],
   "source": [
    "formula = [[('a',1),('b',1),('c',1)]]\n",
    "\n",
    "sa = { 'a': False, 'b':False, 'c':False }\n",
    "nsa = { 'a': False, 'b':False, 'c':False }\n",
    "check_my_work(formula,sa,nsa)        \n"
   ]
  },
  {
   "cell_type": "markdown",
   "metadata": {},
   "source": [
    "### Problem 3\n",
    "\n",
    "Challenge Formula: $( \\neg a \\lor \\neg b \\lor \\neg c ) \\land ( a \\lor b \\lor c )$\n",
    "\n",
    "Pleae set the values of the variables a, b and c to make sa satisfy the formula and\n",
    "nsa NOT satisfy the formula"
   ]
  },
  {
   "cell_type": "code",
   "execution_count": 4,
   "metadata": {},
   "outputs": [
    {
     "name": "stdout",
     "output_type": "stream",
     "text": [
      "That is not correct :(\n"
     ]
    }
   ],
   "source": [
    "formula = [\n",
    "    [('a',0),('b',0),('c',0)],\n",
    "    [('a',1),('b',1),('c',1)]\n",
    "]\n",
    "sa = { 'a': False, 'b':False, 'c':False }\n",
    "nsa = { 'a': False, 'b':False, 'c':False }\n",
    "check_my_work(formula,sa,nsa)  "
   ]
  },
  {
   "cell_type": "markdown",
   "metadata": {},
   "source": [
    "### Problem 4\n",
    "\n",
    "Challenge Formula: $(  a \\lor \\neg b \\lor \\neg c ) \\land (\\neg a \\lor b \\lor \\neg c )\\land (\\neg a \\lor \\neg b \\lor c )$\n",
    "\n",
    "Pleae set the values of the variables a, b and c to make sa satisfy the formula and\n",
    "nsa NOT satisfy the formula"
   ]
  },
  {
   "cell_type": "code",
   "execution_count": 5,
   "metadata": {},
   "outputs": [
    {
     "name": "stdout",
     "output_type": "stream",
     "text": [
      "That is not correct :(\n"
     ]
    }
   ],
   "source": [
    "formula = [\n",
    "    [('a',0),('b',1),('c',1)],\n",
    "    [('a',1),('b',0),('c',1)],\n",
    "    [('a',1),('b',1),('c',0)]\n",
    "]\n",
    "sa = { 'a': False, 'b':False, 'c':False }\n",
    "nsa = { 'a': False, 'b':False, 'c':False }\n",
    "check_my_work(formula,sa,nsa)  \n"
   ]
  },
  {
   "cell_type": "markdown",
   "metadata": {},
   "source": [
    "### Problem 5\n",
    "\n",
    "Challenge Formula: $( \\neg a \\lor \\neg b \\lor \\neg c ) \\land ( a \\lor b \\lor c )\\land (\\neg a \\lor  b \\lor \\neg c )\\land (a \\lor \\neg b \\lor c )$\n",
    "\n",
    "Pleae set the values of the variables a, b and c to make sa satisfy the formula and\n",
    "nsa NOT satisfy the formula"
   ]
  },
  {
   "cell_type": "code",
   "execution_count": 6,
   "metadata": {},
   "outputs": [
    {
     "name": "stdout",
     "output_type": "stream",
     "text": [
      "That is not correct :(\n"
     ]
    }
   ],
   "source": [
    "formula = [\n",
    "    [('a',1),('b',1),('c',1)],\n",
    "    [('a',0),('b',0),('c',0)],\n",
    "    [('a',1),('b',0),('c',1)],\n",
    "    [('a',0),('b',1),('c',0)]\n",
    "]\n",
    "sa = { 'a': False, 'b':False, 'c':False  }\n",
    "nsa = { 'a': False, 'b':False, 'c':False  }\n",
    "check_my_work(formula,sa,nsa)  \n"
   ]
  }
 ],
 "metadata": {
  "kernelspec": {
   "display_name": "Python 3",
   "language": "python",
   "name": "python3"
  },
  "language_info": {
   "codemirror_mode": {
    "name": "ipython",
    "version": 3
   },
   "file_extension": ".py",
   "mimetype": "text/x-python",
   "name": "python",
   "nbconvert_exporter": "python",
   "pygments_lexer": "ipython3",
   "version": "3.6.4"
  }
 },
 "nbformat": 4,
 "nbformat_minor": 2
}
