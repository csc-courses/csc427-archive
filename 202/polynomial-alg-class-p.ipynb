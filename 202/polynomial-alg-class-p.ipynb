{
 "cells": [
  {
   "cell_type": "markdown",
   "metadata": {},
   "source": [
    "***\n",
    "\n",
    "## Polynomial Algorithms and the Class P\n",
    "\n",
    ">CSC427, semester 202 (jan-may 2020)\n",
    "<br><br>\n",
    "burton rosenberg\n",
    "<br>\n",
    "univ of miami\n",
    "<br>\n",
    "(c) 2020 all rights reserved\n",
    "<br><br>Created: \n",
    "16 April 2020\n",
    "<br>Last Update:\n",
    "18 April 2020\n",
    "\n",
    "***\n",
    "\n"
   ]
  },
  {
   "cell_type": "markdown",
   "metadata": {},
   "source": [
    "### Overview\n",
    "\n",
    "Algorithms can be analysed for their run time. The practical reason to do so, is to have efficient \n",
    "algorithms that run quickly. Ultimately, running quickly means that the task at hand takes little\n",
    "time from start to finish. This is referred to as _wall clock time_. The task begins at a time \n",
    "given by the wall clock, and ends at a later time. The difference is how long the program ran.\n",
    "\n",
    "Here I use \"time\" to time a program, and it shows real time (wall clock) user time (just the\n",
    "time in the code the user wrote) and sys (just the time in the operating system on behalf of\n",
    "the user),\n",
    "<pre>\n",
    "raritan:proj1 ojo$ time make -f Makefile-ext \n",
    "make -f Makefile-ext clean\n",
    "rm arrange test.out\n",
    "make -f Makefile-ext extended-test\n",
    "cc -o arrange arrange.c\n",
    "./arrange -r aa:ab: ae:af:aa:ag:ak:ab > test.out\n",
    "./arrange -r notfound a:b:c >> test.out\n",
    "./arrange -r are:ark:arf are >> test.out\n",
    "./arrange -r h:e:d:g:e a:b:c:d:e:f:g:h:i:j:k >> test.out\n",
    "./arrange -r i::s i:s::e:m:p:t:y >> test.out\n",
    "./arrange -r w:w:w w:o:w:t:w:o:2 >> test.out\n",
    "diff test.out extended-test.ref\n",
    "***\n",
    "*** passed the extended test\n",
    "***\n",
    "\n",
    "real\t0m0.120s\n",
    "user\t0m0.061s\n",
    "sys\t0m0.047s\n",
    "raritan:proj1 ojo$ \n",
    "</pre>\n",
    "\n",
    "Wall clock time tells you how long the program ran on that computer, with that input, while a \n",
    "gaggle of other programs were running. But there is not much one can say in general.\n",
    "\n",
    "- How much of the wall clock time was due to the program not to other programs running at the same time?\n",
    "- Is the operating system processing the file slowly for some reaon? So a different operating system\n",
    "  or different disks going to make a big difference?\n",
    "- What is my computer had a higher clock rate? A bigger L1 cache? A GPU?\n",
    "- Was this a particularly hard instance of the problem?\n",
    "- Was the progam badly coded? Did the programmer use the proper techniques to run the program\n",
    "  swiftly.\n",
    "- What algorithm was used to solve the problem?\n",
    "- Was it a typically sized problem? And do I expect the input size to grow? What will happen to wall\n",
    "  clock time as the input size increases.\n",
    " \n",
    "Wall clock time does not allow us to know what will happen if the computing environment, \n",
    "the operating system the hardware, the programmer, the algorithm,\n",
    "or the problem presented, were different.\n",
    "\n",
    "\n",
    "### Algorithmic Efficiency\n",
    "\n",
    "A more durable answer to the question of the time required for the program is provided by\n",
    "the theory of _algorithmic efficiency_.\n",
    "\n",
    "Algorithmic efficiency focuses not on the program, but the algorithm which solves the problem.\n",
    "The algorithm will be cast into code, and then the many factors (hardward, coding ability,\n",
    "operating system) will give a wall-clock time,\n",
    "but the fundamental speed will be set by the algorithmic efficiency. \n",
    "\n",
    "The algorithm can be presented in a particular language, that is, it is already code. \n",
    "But often it is written in pseudo-code - a no-particular programming language that lets\n",
    "the writer skip over syntax issues and smaller, known, difficulties of data representation,\n",
    "to elucidate the logic of steps that will be taken to solve the problem.\n",
    "\n",
    "It also depends on the notion that the algorithm solves all instances from an infinite\n",
    "problem family. For instance, sorting numbers is the problem family. Sorting the\n",
    "four numbers, 7,10,9,3, is an instance of the problem. It is an instance of size 3, and \n",
    "we imagine that the more numbers in the instance, the longer it will take to sort.\n",
    "\n",
    "Hence, the efficiency of an algorithm is a function for all natural numbers $n$ to a value $T(n)$.\n",
    "It is a promise that an problem of size $n$ will finish in no more than $T(n)$ basic steps. \n",
    "Each basic step is considerd a fixed time primitive, and includes such things are adding two numbers,\n",
    "comparing two numbers, retieveing and storing a number from RAM.\n",
    "\n",
    "Furthermore, we replace a specific function, such as $T(n)$, with a class of functions that includes\n",
    "$T(n)$, called $O(T(n))$, all of which we consider as having practically the same run time. \n",
    "\n",
    "Elsewhere I have notes for this so-called [Big-Oh notation](https://www.cs.miami.edu/home/burt/learning/Workbook/algorithms/notes/bigoh.pdf).\n",
    "\n",
    "\n",
    "### Polynomial Time Algorithms\n",
    "\n",
    "The Big-Oh notation places algorithms into groups by algorithmic efficiceny. For several reasons, the\n",
    "collectin of all groups with run times $O(n^k)$ for any real $k$, is of interest. This is the \n",
    "Class of Polynomial Time algorithms can also known as the P-time.\n",
    "\n",
    "- The details of the computational model affect the accounting the calculates the efficiency of an algorithm. But not so much that an algorithm goes in or out of the entire class P because of these details.\n",
    "\n",
    "- P-time algorithms are _effective_, meaning that the computation can be carried out with obtainable resource. It is not a pie-in-the-sky calcuation. \n",
    "\n",
    "- P-time algorithms can be used as subroutines of other P-time algorithms, and the resulting composite will be a P-time algorithm. It's nice to be able to build algorithms on top of algorithms and if all the elements are effective, the composite is effective.\n",
    "\n",
    "\n",
    "#### A linear time algorithm.\n",
    "\n",
    "We present the \"find maximum number in a list of numbers\" problem, and give \n",
    "an algorithm that solves the problem and that runs in time $O(n)$, for $n$ numbers in the list.\n",
    "\n",
    "This means that the actual function $T(n)$ is a member of the family of functions, $O(n)$.\n",
    "While this should be written $T(n)\\in O(n)$, it is written $T(n) = O(n)$.\n",
    "\n",
    "The run time is proportional to input size. Intuitively, this means the algorithm looks at\n",
    "each input element and then comes to a decision.\n",
    "\n",
    "#### A quadraic algorithm.\n",
    "\n",
    "We present the \"sort numbers in a list of numbers\" problem, and give\n",
    "a algorithm that solves the problem and runs in time $O(n^2)$, for $n$ numbers in the list.\n",
    "\n",
    "This means that the actual function $T(n)$ is a member of the family of functions, $O(n^2)$.\n",
    "\n",
    "Intuitively, this means that the algorithm is prepared to make combinations of input elements,\n",
    "two at a time, and make a decision based on this combinations. In the case of sorting, it accounts\n",
    "for comparing each pair of numbers to decide relative placement in sorted list.\n",
    "\n",
    "### Exponential Time Algorithms\n",
    "\n",
    "This discusion is found in [Exponential Algorithms and the Class NP](https://github.com/burtr/Workbook/blob/master/fa-sim/exponential-alg-class-np.ipynb).\n",
    "\n",
    "I also discuss the class NP in that note. NP and Exp-time algorithms are _not_ related in the same way as P and P-time algorithms are related. My organizing the topic as I have can be a bit misleading. As the note will explain, an NP problem may or may not be solvable by a P-time algorithm, but a solution to the problem can be _verified_ by a P-time algorithm. And hence (details are needed) can be solved by an Exp-time algorithm, in the worst case, by brute forcing through the problem space.\n",
    "\n",
    "\n"
   ]
  },
  {
   "cell_type": "markdown",
   "metadata": {},
   "source": [
    "### Finding the maximum number in a list\n",
    "\n",
    "This is the familiar find maximum algoritm. The crucial bit of counting is how many times the for loop\n",
    "is repeated. We do this using a global variable _count_.\n"
   ]
  },
  {
   "cell_type": "code",
   "execution_count": 1,
   "metadata": {},
   "outputs": [],
   "source": [
    "import random\n",
    "\n",
    "### write the get_max program\n",
    "\n",
    "count = 0\n",
    "\n",
    "def get_max(l):\n",
    "    global count\n",
    "    l_n = len(l)\n",
    "    assert(l_n>0)  # i really don't care about empty lists\n",
    "    max_so_far = l[0]\n",
    "    index_so_far = 0\n",
    "    for i in range(1,l_n):\n",
    "        ## loop invariant for elements with index 0, ..., i-1, \n",
    "        ## max_so_far is the maximum over these elements\n",
    "        count += 1\n",
    "        if l[i]>max_so_far:\n",
    "            max_so_far = l[i]\n",
    "            index_so_far = i\n",
    "    return (index_so_far,max_so_far)\n"
   ]
  },
  {
   "cell_type": "code",
   "execution_count": 2,
   "metadata": {},
   "outputs": [
    {
     "name": "stdout",
     "output_type": "stream",
     "text": [
      "[73, 95, 89, 34, 48, 9, 53, 24, 46, 9]\n",
      "len: 10, steps: 9 max: 95 at: 1\n"
     ]
    },
    {
     "data": {
      "text/plain": [
       "9"
      ]
     },
     "execution_count": 2,
     "metadata": {},
     "output_type": "execute_result"
    }
   ],
   "source": [
    "#\n",
    "# test the get_max program\n",
    "#\n",
    "\n",
    "def test_get_max(n,verbose=True):\n",
    "    global count\n",
    "    test_list = [random.randint(0,100) for i in range(n)]\n",
    "    count = 0\n",
    "    (i,m) = get_max(test_list)\n",
    "    if verbose: print(test_list)\n",
    "    if verbose: print(\"len: {}, steps: {} max: {} at: {}\".format(n,count,m, i))\n",
    "    return count\n",
    "\n",
    "\n",
    "test_get_max(10)"
   ]
  },
  {
   "cell_type": "code",
   "execution_count": 3,
   "metadata": {},
   "outputs": [
    {
     "name": "stdout",
     "output_type": "stream",
     "text": [
      "size: 1   \tsteps: 0\tpredicted: 0.0\n",
      "size: 2   \tsteps: 1\tpredicted: 1.0\n",
      "size: 3   \tsteps: 2\tpredicted: 2.0\n",
      "size: 4   \tsteps: 3\tpredicted: 3.0\n",
      "size: 5   \tsteps: 4\tpredicted: 4.0\n",
      "size: 6   \tsteps: 5\tpredicted: 5.0\n",
      "size: 7   \tsteps: 6\tpredicted: 6.0\n",
      "size: 8   \tsteps: 7\tpredicted: 7.0\n",
      "size: 9   \tsteps: 8\tpredicted: 8.0\n",
      "size: 10   \tsteps: 9\tpredicted: 9.0\n",
      "size: 11   \tsteps: 10\tpredicted: 10.0\n",
      "size: 12   \tsteps: 11\tpredicted: 11.0\n",
      "size: 13   \tsteps: 12\tpredicted: 12.0\n",
      "size: 14   \tsteps: 13\tpredicted: 13.0\n",
      "size: 15   \tsteps: 14\tpredicted: 14.0\n",
      "size: 16   \tsteps: 15\tpredicted: 15.0\n"
     ]
    }
   ],
   "source": [
    "#\n",
    "# time the get_max program\n",
    "#\n",
    "\n",
    "def run_time_get_max(n):\n",
    "     for i in range(1,n):\n",
    "        rt = test_get_max(i,verbose=False)\n",
    "        predicted_rt = i-1.  \n",
    "        # it is an O(n) alg. so proportional to i\n",
    "        print(\"size: {}   \\tsteps: {}\\tpredicted: {}\".format(i,rt,predicted_rt))\n",
    "\n",
    "run_time_get_max(17)\n"
   ]
  },
  {
   "cell_type": "markdown",
   "metadata": {},
   "source": [
    "### Sorting a list using selection sort\n",
    "\n",
    "This is the selection sort algorithm. It is not the best algorithm to sort, but it is easy to understand,\n",
    "and easy to code. It also builds off off the find max, so this shortens our analysis.\n",
    "\n",
    "The while loop calls get_max for each time through the loop, and get_max will increment count for the \n",
    "run time incurred in each calling of get_max.\n"
   ]
  },
  {
   "cell_type": "code",
   "execution_count": 4,
   "metadata": {},
   "outputs": [],
   "source": [
    "#\n",
    "# write the selection_sort program\n",
    "#\n",
    "\n",
    "def selection_sort(l):\n",
    "    global count\n",
    "    l_n = len(l)\n",
    "    assert(l_n>0)\n",
    "    sorted_list = []\n",
    "    while len(l)>0:\n",
    "        ## loop invariant:\n",
    "        ## sorted_list is the largest len(sorted_list) in the \n",
    "        ## original list, sorted.\n",
    "        (i,m) = get_max(l)\n",
    "        del l[i]\n",
    "        sorted_list += [m]\n",
    "    return sorted_list\n"
   ]
  },
  {
   "cell_type": "code",
   "execution_count": 5,
   "metadata": {},
   "outputs": [
    {
     "name": "stdout",
     "output_type": "stream",
     "text": [
      "test: [36, 100, 79, 29, 25, 86, 73, 71, 69, 81]\n",
      "sorted: [100, 86, 81, 79, 73, 71, 69, 36, 29, 25]\n",
      "steps: 45\n"
     ]
    },
    {
     "data": {
      "text/plain": [
       "45"
      ]
     },
     "execution_count": 5,
     "metadata": {},
     "output_type": "execute_result"
    }
   ],
   "source": [
    "#\n",
    "# test the selection_sort program\n",
    "#\n",
    "\n",
    "def test_selection_sort(n,verbose=True):\n",
    "    global count\n",
    "    test_list = [random.randint(0,100) for i in range(n)]\n",
    "    count = 0\n",
    "    if verbose: print(\"test: {}\".format(test_list))\n",
    "    result = selection_sort(test_list)\n",
    "    if verbose: print(\"sorted: {}\".format(result))\n",
    "    if verbose: print(\"steps: {}\".format(count))\n",
    "    return count\n",
    "\n",
    "test_selection_sort(10)"
   ]
  },
  {
   "cell_type": "code",
   "execution_count": 6,
   "metadata": {},
   "outputs": [
    {
     "name": "stdout",
     "output_type": "stream",
     "text": [
      "size:1   \tsteps: 0\tpredicted: 0\n",
      "size:2   \tsteps: 1\tpredicted: 1\n",
      "size:3   \tsteps: 3\tpredicted: 3\n",
      "size:4   \tsteps: 6\tpredicted: 6\n",
      "size:5   \tsteps: 10\tpredicted: 10\n",
      "size:6   \tsteps: 15\tpredicted: 15\n",
      "size:7   \tsteps: 21\tpredicted: 21\n",
      "size:8   \tsteps: 28\tpredicted: 28\n",
      "size:9   \tsteps: 36\tpredicted: 36\n",
      "size:10   \tsteps: 45\tpredicted: 45\n",
      "size:11   \tsteps: 55\tpredicted: 55\n",
      "size:12   \tsteps: 66\tpredicted: 66\n",
      "size:13   \tsteps: 78\tpredicted: 78\n",
      "size:14   \tsteps: 91\tpredicted: 91\n",
      "size:15   \tsteps: 105\tpredicted: 105\n",
      "size:16   \tsteps: 120\tpredicted: 120\n"
     ]
    }
   ],
   "source": [
    "#\n",
    "# time the selection_sort program\n",
    "#\n",
    "\n",
    "def run_time_selection_sort(n):\n",
    "    for i in range(1,n):\n",
    "        rt = test_selection_sort(i,verbose=False)\n",
    "        # it is a quadradict alg. so proportional to i^2\n",
    "        predicted_rt = int(i*(i-1)/2) \n",
    "        print(\"size:{}   \\tsteps: {}\\tpredicted: {}\".format(i,rt,predicted_rt))\n",
    "\n",
    "run_time_selection_sort(17)"
   ]
  },
  {
   "cell_type": "code",
   "execution_count": null,
   "metadata": {},
   "outputs": [],
   "source": []
  }
 ],
 "metadata": {
  "kernelspec": {
   "display_name": "Python 3",
   "language": "python",
   "name": "python3"
  },
  "language_info": {
   "codemirror_mode": {
    "name": "ipython",
    "version": 3
   },
   "file_extension": ".py",
   "mimetype": "text/x-python",
   "name": "python",
   "nbconvert_exporter": "python",
   "pygments_lexer": "ipython3",
   "version": "3.6.4"
  }
 },
 "nbformat": 4,
 "nbformat_minor": 2
}
