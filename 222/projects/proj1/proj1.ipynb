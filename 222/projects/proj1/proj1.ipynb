{
 "cells": [
  {
   "cell_type": "markdown",
   "id": "51dd18f8",
   "metadata": {},
   "source": [
    "## Problem Set 1: Up and Running\n",
    "\n",
    "\n",
    "_csc427, semester 222\n",
    "<br>\n",
    "university of miami\n",
    "<br>\n",
    "date: 20 january 2022\n",
    "<br>\n",
    "update: 22 january 2022_\n",
    "\n",
    "\n"
   ]
  },
  {
   "cell_type": "markdown",
   "id": "4e100470",
   "metadata": {},
   "source": [
    "---\n",
    "\n",
    "### Student name:\n",
    "\n",
    "---\n",
    "\n",
    "\n",
    "### General Remarks\n",
    "\n",
    "You are to edit this notebook to complete the described tasks. There are test sections in this code that should automatically run to test your work. You will note that there is also a Makefile in the directory along with the file. It runs at the command line and automates the testing of your notebook.\n"
   ]
  },
  {
   "cell_type": "markdown",
   "id": "73d40279",
   "metadata": {},
   "source": [
    "## A. Fibonacci Series\n",
    "\n",
    "\n",
    "Write a program that given n calculates the n-th fibonacci number. Make sure your program passes the test suite.\n",
    "\n",
    "Things to learn in this project,\n",
    "- how to define a function in python\n",
    "- how to create a range object, and to iterate on that object\n",
    "More about iterators can be found in the C part of the [ABC of Python](https://www.cs.miami.edu/home/burt/learning/csc427.222/index.html?p=cn).\n",
    "\n"
   ]
  },
  {
   "cell_type": "code",
   "execution_count": 1,
   "id": "c1d1729c",
   "metadata": {},
   "outputs": [],
   "source": [
    "\n",
    "def fib_series(n):\n",
    "    \n",
    "    # write code here\n",
    "    \n",
    "    return n\n",
    "\n"
   ]
  },
  {
   "cell_type": "markdown",
   "id": "f8277eed",
   "metadata": {},
   "source": [
    "## Part B: Sort a string\n",
    "\n",
    "Given a string, break it into words, sort the words, and then put the words back into a string.\n",
    "\n",
    "Things to learn in this project, \n",
    "- how to split a string, see [string.split](https://docs.python.org/3/library/stdtypes.html#str.split).\n",
    "- how to join a list of strings, see [string.join](https://docs.python.org/3/library/stdtypes.html?highlight=join#str.join).\n",
    "- how to sort a list, see [list.sort](https://docs.python.org/3/library/stdtypes.html?highlight=sort#list.sort)."
   ]
  },
  {
   "cell_type": "code",
   "execution_count": 2,
   "id": "97a758b4",
   "metadata": {},
   "outputs": [],
   "source": [
    "\n",
    "def sort_words_in_line(line):\n",
    "    \n",
    "    # write code here\n",
    "    \n",
    "    return line\n"
   ]
  },
  {
   "cell_type": "markdown",
   "id": "f0426e60",
   "metadata": {},
   "source": [
    "## Testing section"
   ]
  },
  {
   "cell_type": "code",
   "execution_count": 3,
   "id": "905f9dd2",
   "metadata": {},
   "outputs": [
    {
     "name": "stdout",
     "output_type": "stream",
     "text": [
      "\n",
      "fib_series(1) = 1\n",
      "*fib_series(8) = 21\n",
      "*fib_series(27) = 196418\n",
      "*fib_series(64) = 10610209857723\n",
      "*fib_series(125) = 59425114757512643212875125\n",
      "*fib_series(216) = 619220451666590135228675387863297874269396512\n",
      "\n",
      "1 out of 6 correct\n",
      "*** did not pass the test.\n",
      "\n",
      "|a b c d e|?=|a b c d e|\n",
      "*|now is the time for all|?=|all for is now the time|\n",
      "*|z y z c b a|?=|a b c y z z|\n",
      "*|it was the best of times it was the worst of times|?=|best it it of of the the times times was was worst|\n",
      "*|a b B A c cc Cc|?=|A B Cc a b c cc|\n",
      "\n",
      "1 out of 5 correct\n",
      "*** did not pass the test.\n"
     ]
    }
   ],
   "source": [
    "\n",
    "def test_fib_series(ans):\n",
    "    wrong = 0\n",
    "    for n in ans:\n",
    "        ok = \"\"\n",
    "        if fib_series(n[0])!=n[1]:\n",
    "            wrong += 1\n",
    "            ok = \"*\"\n",
    "        print(f'{ok}fib_series({n[0]}) = {n[1]}')\n",
    "    print(f'\\n{len(ans)-wrong} out of {len(ans)} correct')\n",
    "    return wrong==0\n",
    "\n",
    "def test_sort_words_in_line(ans):\n",
    "    wrong = 0\n",
    "    for test in ans:\n",
    "        ok = \"\"\n",
    "        s = sort_words_in_line(test[0])\n",
    "        if s != test[1]:\n",
    "            wrong += 1\n",
    "            ok = \"*\"\n",
    "        print(f'{ok}|{s}|?=|{test[1]}|')\n",
    "    print(f'\\n{len(ans)-wrong} out of {len(ans)} correct')\n",
    "    return wrong==0\n",
    "\n",
    "\n",
    "ans = [(1, 1), (8, 21), (27, 196418), (64, 10610209857723), \n",
    "    (125, 59425114757512643212875125), (216, 619220451666590135228675387863297874269396512)]\n",
    "\n",
    "print()\n",
    "if test_fib_series(ans):\n",
    "    print('*** passed the test!')\n",
    "else:\n",
    "    print('*** did not pass the test.')\n",
    "    \n",
    "# thanks to alex for the extra test case. to clarify the sort order to be used.    \n",
    "ans = [(\"a b c d e\",\"a b c d e\"),(\"now is the time for all\",\"all for is now the time\"),(\"z y z c b a\",\"a b c y z z\"),\n",
    "       (\"it was the best of times it was the worst of times\",\"best it it of of the the times times was was worst\"),\n",
    "      (\"a b B A c cc Cc\",\"A B Cc a b c cc\")]\n",
    "\n",
    "print()\n",
    "if test_sort_words_in_line(ans):\n",
    "    print('*** passed the test!')\n",
    "else:\n",
    "    print('*** did not pass the test.')\n",
    "    "
   ]
  },
  {
   "cell_type": "markdown",
   "id": "a9cc8cf6",
   "metadata": {},
   "source": [
    "## Part C: Finite Automata\n",
    "\n",
    "Write a basic program to simulate a finite automata. The automata examples are from Siper's book.\n",
    "\n",
    "Things to learn in this project:\n",
    "- the set data type, see [class Set](https://docs.python.org/3/tutorial/datastructures.html?highlight=dictionary#sets),\n",
    "- the tuple data type, see [class Tuple](https://docs.python.org/3/tutorial/datastructures.html?highlight=dictionary#tuples-and-sequences),\n",
    "- the dictionary data type, see [class Dict](https://docs.python.org/3/tutorial/datastructures.html?highlight=dictionary#dictionaries).\n",
    "- how to define a class"
   ]
  },
  {
   "cell_type": "code",
   "execution_count": 4,
   "id": "dcc1d930",
   "metadata": {},
   "outputs": [],
   "source": [
    "class SimpleFiniteAutomata:\n",
    "    \n",
    "    def __init__(self,fa_description):\n",
    "        self.fa = fa_description\n",
    "        self.state = self.fa['start']\n",
    "        \n",
    "    def one_step(self,symbol):\n",
    "        \"\"\"\n",
    "        takes a symbol (a string) and returns a state\n",
    "        it is the state arrived at given the symbol at the current state\n",
    "        \"\"\"\n",
    "        \n",
    "        # write code here\n",
    "        \n",
    "        return self.state   # do not take this as a hint\n",
    "        \n",
    "    def compute(self,string):\n",
    "        \"\"\"\n",
    "        takes a string and put the FA in the start state, then applies one_step\n",
    "        to each symbol in the string.\n",
    "        returns True if the FA ends in an accepting state; else returns False\n",
    "        \"\"\"\n",
    "        \n",
    "        # write code here \n",
    "        \n",
    "        return False   # do not takes this as a hint\n",
    "\n",
    "    \n",
    "#end class SimpleFiniteAutomata\n"
   ]
  },
  {
   "cell_type": "markdown",
   "id": "67d37cf9",
   "metadata": {},
   "source": [
    "## Part D: Finite Automata Specification\n",
    "\n",
    "The specification for Finite Automata M1 (page 34) is given. Also test strings are defined in a 2-tuple of lists. The first entry in the tuple is a list of strings accepted by M1; the second entry, strings not accepted by M1.\n",
    "\n",
    "Write the specification for Finite Automata M2 (page 37), M3 (page 38) and M4 (page 38). Write the test cases associated with each of M2, M3 and M4.\n"
   ]
  },
  {
   "cell_type": "code",
   "execution_count": 5,
   "id": "b37b5738",
   "metadata": {},
   "outputs": [],
   "source": [
    "\n",
    "# example of a Finite Automata Description. \n",
    "# this one is M1, from figure 1.4 in Sipser\n",
    "\n",
    "m1 = {\n",
    "    'states':{'q1','q2','q3'},\n",
    "    'alphabet':{'0','1'},\n",
    "    'transitions':{\n",
    "        ('q1','0'):'q1',\n",
    "        ('q1','1'):'q2',\n",
    "        ('q2','1'):'q2',\n",
    "        ('q2','0'):'q3',\n",
    "        ('q3','0'):'q2',\n",
    "        ('q3','1'):'q2'\n",
    "    },\n",
    "    'start':'q1',\n",
    "    'accept':{'q2'}\n",
    "}\n",
    "\n",
    "m1_test = ([\"1\",\"01\",\"11\",\"0101010101\",\"100\",\"0100\",\"010000\"],[\"0\",\"10\",\"101000\"])\n",
    "\n",
    "\n",
    "# change m2, m3, m4 and associated test vectors\n",
    "\n",
    "m2 = {\n",
    "    'states':{'q0'},\n",
    "    'alphabet':{'0','1'},\n",
    "    'transitions':{('q0','0'):'q0',('q0','1'):'q0'},\n",
    "    'start':'q0',\n",
    "    'accept': {} \n",
    "}\n",
    "\n",
    "m2_test = ([],[])\n",
    "\n",
    "m3 = {\n",
    "    'states':{'q0'},\n",
    "    'alphabet':{'0','1'},\n",
    "    'transitions':{('q0','0'):'q0',('q0','1'):'q0'},\n",
    "    'start':'q0',\n",
    "    'accept': {} \n",
    "}\n",
    "\n",
    "m3_test = ([],[])\n",
    "\n",
    "m4 = {\n",
    "    'states':{'q0'},\n",
    "    'alphabet':{'0','1'},\n",
    "    'transitions':{('q0','0'):'q0',('q0','1'):'q0'},\n",
    "    'start':'q0',\n",
    "    'accept': {} \n",
    "}\n",
    "\n",
    "m4_test = ([],[])\n"
   ]
  },
  {
   "cell_type": "markdown",
   "id": "8d9a7c44",
   "metadata": {},
   "source": [
    "## Testing Part C"
   ]
  },
  {
   "cell_type": "code",
   "execution_count": 6,
   "id": "69e278ca",
   "metadata": {
    "scrolled": true
   },
   "outputs": [
    {
     "name": "stdout",
     "output_type": "stream",
     "text": [
      "\n",
      "Machine M1: 3 correct out of 10 tests.\n",
      "\n",
      "Machine M2: 0 correct out of 0 tests.\n",
      "\n",
      "Machine M3: 0 correct out of 0 tests.\n",
      "\n",
      "Machine M4: 0 correct out of 0 tests.\n"
     ]
    }
   ],
   "source": [
    "\n",
    "\n",
    "\n",
    "def simple_fa_test(fa_desc,test_vect,verbose=False):\n",
    "    fa = SimpleFiniteAutomata(fa_desc)\n",
    "    tv_true, tv_false = test_vect\n",
    "    correct = 0 \n",
    "\n",
    "    for string in tv_true:\n",
    "        if fa.compute(string):\n",
    "            correct += 1\n",
    "    for string in tv_false:\n",
    "        if not fa.compute(string):\n",
    "            correct += 1\n",
    "    return (correct,len(test_vect[0]) + len(test_vect[1]))\n",
    "\n",
    "fa_all = [\n",
    "    ('M1',m1,m1_test),\n",
    "    ('M2',m2,m2_test),\n",
    "    ('M3',m3,m3_test),\n",
    "    ('M4',m4,m4_test),\n",
    "]\n",
    "\n",
    "for fa in fa_all:\n",
    "    correct, total = simple_fa_test(fa[1],fa[2])\n",
    "    print(f'\\nMachine {fa[0]}: {correct} correct out of {total} tests.')\n"
   ]
  },
  {
   "cell_type": "code",
   "execution_count": null,
   "id": "3ba83951",
   "metadata": {},
   "outputs": [],
   "source": []
  }
 ],
 "metadata": {
  "kernelspec": {
   "display_name": "Python 3",
   "language": "python",
   "name": "python3"
  },
  "language_info": {
   "codemirror_mode": {
    "name": "ipython",
    "version": 3
   },
   "file_extension": ".py",
   "mimetype": "text/x-python",
   "name": "python",
   "nbconvert_exporter": "python",
   "pygments_lexer": "ipython3",
   "version": "3.8.5"
  }
 },
 "nbformat": 4,
 "nbformat_minor": 5
}
