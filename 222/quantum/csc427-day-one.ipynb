{
 "cells": [
  {
   "cell_type": "markdown",
   "id": "31e7199e",
   "metadata": {},
   "source": [
    "## CSC427 Quantum Day One\n",
    "\n",
    "_Date: 26 april 2022_\n",
    "\n",
    "_Author: Burton Rosenberg_"
   ]
  },
  {
   "cell_type": "markdown",
   "id": "fa29ffe9",
   "metadata": {},
   "source": [
    "### Getting ready. \n",
    "\n",
    "You will need the [qiskit package](https://qiskit.org/documentation/install.html). Qiskit is installed with pip, rather than conda.\n",
    "\n",
    "\n",
    "__Notes for 2022:__ \n",
    "\n",
    "<pre>\n",
    "conda create -n quantum\n",
    "conda activate quantum\n",
    "conda install pip\n",
    "pip install qiskit\n",
    "conda install jupyter\n",
    "# perhaps\n",
    "pip install qiskit-terra[visualization]\n",
    "</pre>\n",
    "\n",
    "This installation uses environments. List the environments that you have created\n",
    "using the command,\n",
    "\n",
    "- conda info --envs\n",
    "\n"
   ]
  },
  {
   "cell_type": "code",
   "execution_count": 1,
   "id": "0d05653a",
   "metadata": {},
   "outputs": [
    {
     "name": "stdout",
     "output_type": "stream",
     "text": [
      "getting provider...\n",
      "backends available ...\n",
      "\tibmq_qasm_simulator, pending jobs:2\n",
      "\tibmq_armonk, pending jobs:6\n",
      "\tibmq_santiago, pending jobs:51\n",
      "\tibmq_bogota, pending jobs:74\n",
      "\tibmq_lima, pending jobs:1\n",
      "\tibmq_belem, pending jobs:5\n",
      "\tibmq_quito, pending jobs:13\n",
      "\tsimulator_statevector, pending jobs:2\n",
      "\tsimulator_mps, pending jobs:2\n",
      "\tsimulator_extended_stabilizer, pending jobs:2\n",
      "\tsimulator_stabilizer, pending jobs:2\n",
      "\tibmq_manila, pending jobs:29\n"
     ]
    }
   ],
   "source": [
    "import qiskit\n",
    "import time, math\n",
    "\n",
    "from qiskit import QuantumCircuit, execute, Aer, IBMQ\n",
    "from qiskit.compiler import transpile, assemble\n",
    "from qiskit.tools.jupyter import *\n",
    "from qiskit.visualization import *\n",
    "from qiskit.providers.jobstatus import JOB_FINAL_STATES, JobStatus\n",
    "from qiskit import QuantumCircuit, QuantumRegister, ClassicalRegister, execute, Aer\n",
    "\n",
    "qiskit.__qiskit_version__\n",
    "\n",
    "#initialization\n",
    "import matplotlib.pyplot as plt\n",
    "import numpy as np\n",
    "\n",
    "# what is this?\n",
    "from qiskit.providers.ibmq import least_busy\n",
    "\n",
    "args_g = []\n",
    "\n",
    "# your api token from IBM, first time run.\n",
    "# after that None is good\n",
    "\n",
    "#api_token = 'abcdefghijklmnopqrstuvwxyz'\n",
    "api_token = None \n",
    "\n",
    "def load_or_save_IBMQ_account(api_token=None):\n",
    "    global args_g\n",
    "    print('getting provider...')\n",
    "    if api_token:\n",
    "        # only needs to be done once\n",
    "        # then is stored in e.g. ~/.qistkit/qiskitrc\n",
    "        IBMQ.save_account(api_token)\n",
    "    provider = IBMQ.load_account()\n",
    "    return provider\n",
    "\n",
    "def list_backends(provider):\n",
    "    global args_g\n",
    "    print('backends available ...')\n",
    "    backends = provider.backends()\n",
    "    for be in backends:\n",
    "        st = be.status()\n",
    "        if st.operational:\n",
    "            print(f'\\t{be.name()}, pending jobs:{st.pending_jobs}')\n",
    "\n",
    "            \n",
    "def run_quantum_circuit_on_backend(quantum_circuit,provider,backend):\n",
    "    backend = provider.get_backend(backend)\n",
    "    qobj = assemble(transpile(quantum_circuit, backend=backend), backend=backend)\n",
    "    job = backend.run(qobj)\n",
    "    return job\n",
    "\n",
    "\n",
    "def wait_for_job(backend, job, wait_interval=5):\n",
    "    backend = provider.get_backend(backend)\n",
    "    retrieved_job = backend.retrieve_job(job.job_id())\n",
    "    start_time = time.time()\n",
    "    job_status = job.status()\n",
    "    while job_status not in JOB_FINAL_STATES:\n",
    "        print(f'Status @ {time.time() - start_time:0.0f} s: {job_status.name},'\n",
    "              f' est. queue position: {job.queue_position()}')\n",
    "        time.sleep(wait_interval)\n",
    "        job_status = job.status()\n",
    "\n",
    "\n",
    "provider = load_or_save_IBMQ_account(api_token)\n",
    "list_backends(provider)\n",
    "\n",
    "# choose your backend\n",
    "\n",
    "#backend = 'ibmq_qasm_simulator'\n",
    "#backend = 'ibmq_armonk'\n",
    "#backend = 'ibmq_vigo'\n",
    "#backend = 'ibmq_london'\n",
    "backend = 'ibmq_lima'\n",
    "\n",
    "# and so forth ... chose from the results given by provider.backends()"
   ]
  },
  {
   "cell_type": "code",
   "execution_count": 2,
   "id": "99508a39",
   "metadata": {},
   "outputs": [
    {
     "name": "stdout",
     "output_type": "stream",
     "text": [
      "        ┌───┐ ░ ┌─┐\n",
      "     q: ┤ X ├─░─┤M├\n",
      "        └───┘ ░ └╥┘\n",
      "meas: 1/═════════╩═\n",
      "                 0 \n",
      "input, output, frequency\n",
      "\t|0> {'1': 1000}\n",
      "\t|1> {'0': 1000}\n"
     ]
    }
   ],
   "source": [
    "qc = QuantumCircuit(1)\n",
    "qc.x(0)\n",
    "qc.measure_all()\n",
    "job = qiskit.execute(qc, qiskit.BasicAer.get_backend('qasm_simulator'), shots=1000)\n",
    "print(qc.draw())\n",
    "\n",
    "print(f'input, output, frequency\\n\\t|0> {job.result().get_counts()}')\n",
    "qc = QuantumCircuit(1)\n",
    "qc.x(0)\n",
    "qc.x(0)\n",
    "qc.measure_all()\n",
    "job = qiskit.execute(qc, qiskit.BasicAer.get_backend('qasm_simulator'), shots=1000)\n",
    "print(f'\\t|1> {job.result().get_counts()}')"
   ]
  },
  {
   "cell_type": "markdown",
   "id": "b5d9397a",
   "metadata": {},
   "source": [
    "Although the frequencey of |+> and |-> are the same, they are not the same. "
   ]
  },
  {
   "cell_type": "code",
   "execution_count": 3,
   "id": "4807ea56",
   "metadata": {},
   "outputs": [
    {
     "name": "stdout",
     "output_type": "stream",
     "text": [
      "        ┌───┐ ░ ┌─┐\n",
      "     q: ┤ H ├─░─┤M├\n",
      "        └───┘ ░ └╥┘\n",
      "meas: 1/═════════╩═\n",
      "                 0 \n",
      "input, output, frequency\n",
      "\t|0> {'1': 492, '0': 508}\n",
      "\t|1> {'0': 503, '1': 497}\n",
      "\n",
      "------------------------------\n",
      "\n",
      "        ┌───┐┌───┐ ░ ┌─┐\n",
      "     q: ┤ H ├┤ H ├─░─┤M├\n",
      "        └───┘└───┘ ░ └╥┘\n",
      "meas: 1/══════════════╩═\n",
      "                      0 \n",
      "input, output, frequency\n",
      "\t|0> {'0': 1000}\n",
      "\t|1> {'1': 1000}\n"
     ]
    }
   ],
   "source": [
    "qc = QuantumCircuit(1)\n",
    "qc.h(0)\n",
    "qc.measure_all()\n",
    "job = qiskit.execute(qc, qiskit.BasicAer.get_backend('qasm_simulator'), shots=1000)\n",
    "print(qc.draw())\n",
    "\n",
    "print(f'input, output, frequency\\n\\t|0> {job.result().get_counts()}')\n",
    "qc = QuantumCircuit(1)\n",
    "qc.x(0)\n",
    "qc.h(0)\n",
    "qc.measure_all()\n",
    "job = qiskit.execute(qc, qiskit.BasicAer.get_backend('qasm_simulator'), shots=1000)\n",
    "print(f'\\t|1> {job.result().get_counts()}')\n",
    "\n",
    "print()\n",
    "print('------------------------------')\n",
    "print()\n",
    "\n",
    "qc = QuantumCircuit(1)\n",
    "qc.h(0)\n",
    "qc.h(0)\n",
    "qc.measure_all()\n",
    "job = qiskit.execute(qc, qiskit.BasicAer.get_backend('qasm_simulator'), shots=1000)\n",
    "print(qc.draw())\n",
    "\n",
    "print(f'input, output, frequency\\n\\t|0> {job.result().get_counts()}')\n",
    "qc = QuantumCircuit(1)\n",
    "qc.x(0)\n",
    "qc.h(0)\n",
    "qc.h(0)\n",
    "qc.measure_all()\n",
    "job = qiskit.execute(qc, qiskit.BasicAer.get_backend('qasm_simulator'), shots=1000)\n",
    "print(f'\\t|1> {job.result().get_counts()}')"
   ]
  },
  {
   "cell_type": "code",
   "execution_count": 4,
   "id": "21945aed",
   "metadata": {},
   "outputs": [
    {
     "name": "stdout",
     "output_type": "stream",
     "text": [
      "        ┌───┐┌───┐┌───┐ ░ ┌─┐\n",
      "     q: ┤ H ├┤ X ├┤ H ├─░─┤M├\n",
      "        └───┘└───┘└───┘ ░ └╥┘\n",
      "meas: 1/═══════════════════╩═\n",
      "                           0 \n",
      "\t|0> {'0': 1000}\n",
      "\t|1> {'1': 1000}\n"
     ]
    }
   ],
   "source": [
    "# HXH show that the X doesn't matter. for  X H |1>  there will be a change of phase, but it wont matter\n",
    "\n",
    "backend = 'ibmq_belem'\n",
    "\n",
    "qhxh = QuantumCircuit(1)\n",
    "qhxh.h(0)\n",
    "qhxh.x(0)\n",
    "qhxh.h(0)\n",
    "qhxh.measure_all()\n",
    "print(qhxh.draw())\n",
    "job = qiskit.execute(qhxh, qiskit.BasicAer.get_backend('qasm_simulator'), shots=1000)\n",
    "print(f'\\t|0> {job.result().get_counts()}')\n",
    "qhxh = QuantumCircuit(1)\n",
    "qhxh.x(0)\n",
    "qhxh.h(0)\n",
    "qhxh.x(0)\n",
    "qhxh.h(0)\n",
    "qhxh.measure_all()\n",
    "job = qiskit.execute(qhxh, qiskit.BasicAer.get_backend('qasm_simulator'), shots=1000)\n",
    "print(f'\\t|1> {job.result().get_counts()}')\n"
   ]
  },
  {
   "cell_type": "markdown",
   "id": "4a8869a0",
   "metadata": {},
   "source": [
    "### Tensor product of Hadamards\n",
    "\n",
    "Creating a superposition of all states.\n"
   ]
  },
  {
   "cell_type": "code",
   "execution_count": null,
   "id": "1f2c0ee8",
   "metadata": {},
   "outputs": [
    {
     "name": "stdout",
     "output_type": "stream",
     "text": [
      "        ┌───┐ ░ ┌─┐   \n",
      "   q_0: ┤ H ├─░─┤M├───\n",
      "        ├───┤ ░ └╥┘┌─┐\n",
      "   q_1: ┤ H ├─░──╫─┤M├\n",
      "        └───┘ ░  ║ └╥┘\n",
      "meas: 2/═════════╩══╩═\n",
      "                 0  1 \n",
      "results: waiting for results from backend ibmq_lima ...\n"
     ]
    },
    {
     "name": "stderr",
     "output_type": "stream",
     "text": [
      "/var/folders/x7/99kj7q8d23966f07qr0q71bm0000gn/T/ipykernel_6327/138421145.py:51: DeprecationWarning: Passing a Qobj to Backend.run is deprecated and will be removed in a future release. Please pass in circuits or pulse schedules instead.\n",
      "  job = backend.run(qobj)\n"
     ]
    },
    {
     "name": "stdout",
     "output_type": "stream",
     "text": [
      "Status @ 0 s: VALIDATING, est. queue position: None\n"
     ]
    }
   ],
   "source": [
    "backend = 'ibmq_lima'\n",
    "#backend = 'ibmq_qasm_simulator'\n",
    "\n",
    "qp = QuantumCircuit(2)\n",
    "qp.h(0)\n",
    "qp.h(1)\n",
    "qp.measure_all()\n",
    "print(qp.draw())\n",
    "\n",
    "print(f'results: waiting for results from backend {backend} ...')\n",
    "job = run_quantum_circuit_on_backend(qp,provider,backend)\n",
    "wait_for_job(backend, job)\n",
    "result = job.result()\n",
    "print(f'results: {result.get_counts()}')\n",
    "\n",
    "\n",
    "qp = QuantumCircuit(2)\n",
    "qp.h(0)\n",
    "qp.cx(0,1)\n",
    "qp.measure_all()\n",
    "print(qp.draw())\n",
    "\n",
    "print(f'results: waiting for results from backend {backend} ...')\n",
    "job = run_quantum_circuit_on_backend(qp,provider,backend)\n",
    "wait_for_job(backend, job)\n",
    "result = job.result()\n",
    "print(f'results: {result.get_counts()}')\n",
    "\n",
    "qp = QuantumCircuit(2)\n",
    "qp.h(0)\n",
    "qp.x(0)\n",
    "qp.cx(0,1)\n",
    "qp.measure_all()\n",
    "print(qp.draw())\n",
    "\n",
    "print(f'results: waiting for results from backend {backend} ...')\n",
    "job = run_quantum_circuit_on_backend(qp,provider,backend)\n",
    "wait_for_job(backend, job)\n",
    "result = job.result()\n",
    "print(f'results: {result.get_counts()}')\n",
    "\n",
    "\n",
    "qp = QuantumCircuit(2)\n",
    "qp.h(0)\n",
    "qp.cx(0,1)\n",
    "qp.x(0)\n",
    "qp.measure_all()\n",
    "print(qp.draw())\n",
    "\n",
    "print(f'results: waiting for results from backend {backend} ...')\n",
    "job = run_quantum_circuit_on_backend(qp,provider,backend)\n",
    "wait_for_job(backend, job)\n",
    "result = job.result()\n",
    "print(f'results: {result.get_counts()}')\n"
   ]
  },
  {
   "cell_type": "code",
   "execution_count": null,
   "id": "e83b5259",
   "metadata": {},
   "outputs": [],
   "source": [
    "backend = 'ibmq_qasm_simulator'\n",
    "\n",
    "qp = QuantumCircuit(2)\n",
    "qp.h(0)\n",
    "qp.x(1)\n",
    "qp.cx(0,1)\n",
    "\n",
    "qp.measure_all()\n",
    "print(qp.draw(output='mpl'))\n",
    "\n",
    "print(f'results: waiting for results from backend {backend} ...')\n",
    "job = run_quantum_circuit_on_backend(qp,provider,backend)\n",
    "wait_for_job(backend, job)\n",
    "result = job.result()\n",
    "print(f'results: {result.get_counts()}')\n"
   ]
  },
  {
   "cell_type": "markdown",
   "id": "65874dc0",
   "metadata": {},
   "source": [
    "### Greenberger–Horne–Zeilinger state\n",
    "\n",
    "See https://en.wikipedia.org/wiki/Greenberger%E2%80%93Horne%E2%80%93Zeilinger_state"
   ]
  },
  {
   "cell_type": "code",
   "execution_count": null,
   "id": "0a29d82b",
   "metadata": {},
   "outputs": [],
   "source": [
    "#\n",
    "\n",
    "def ghz():\n",
    "    \"\"\"\n",
    "    Create a GHZ (entangled 3-qubit system) quantum circuit.\n",
    "    from: Kory Becker primaryobjects  github\n",
    "    \"\"\"\n",
    "    qc = QuantumCircuit(3)\n",
    "    qc.h(0)\n",
    "    qc.cx(0, 1)\n",
    "    qc.cx(0, 2)\n",
    "    qc.measure_all()\n",
    "    return qc\n",
    "\n",
    "    \n",
    "    \n",
    "qc = ghz()\n",
    "print(qc.draw())\n",
    "job = qiskit.execute(qc, qiskit.BasicAer.get_backend('qasm_simulator'), shots=1000)\n",
    "print(job.result().get_counts())\n",
    "plot_histogram(job.result().get_counts())"
   ]
  },
  {
   "cell_type": "code",
   "execution_count": null,
   "id": "afabbaa9",
   "metadata": {},
   "outputs": [],
   "source": []
  }
 ],
 "metadata": {
  "kernelspec": {
   "display_name": "Python 3 (ipykernel)",
   "language": "python",
   "name": "python3"
  },
  "language_info": {
   "codemirror_mode": {
    "name": "ipython",
    "version": 3
   },
   "file_extension": ".py",
   "mimetype": "text/x-python",
   "name": "python",
   "nbconvert_exporter": "python",
   "pygments_lexer": "ipython3",
   "version": "3.10.4"
  }
 },
 "nbformat": 4,
 "nbformat_minor": 5
}
