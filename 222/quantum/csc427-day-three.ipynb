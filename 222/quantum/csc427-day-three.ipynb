{
 "cells": [
  {
   "cell_type": "markdown",
   "id": "113b0641",
   "metadata": {},
   "source": [
    "### CSC427 Quantum Day Three\n",
    "\n",
    "_Date: April 26, 2022_\n",
    "\n",
    "_Author: Burton Rosenberg_\n",
    "\n",
    "\n",
    "References, \n",
    "\n",
    "- https://qiskit.org/textbook/ch-algorithms/grover.html#3qubits\n",
    "- C. Figgatt, D. Maslov, K. A. Landsman, N. M. Linke, S. Debnath & C. Monroe (2017), \"Complete 3-Qubit Grover search on a programmable quantum computer\", Nature Communications, Vol 8, Art 1918, doi:10.1038/s41467-017-01904-7, arXiv:1703.10535 \n",
    "- https://arxiv.org/abs/1703.10535\n",
    "- https://quantum-computing.ibm.com/composer/docs/iqx/guide/advanced-single-qubit-gates\n",
    "\n"
   ]
  },
  {
   "cell_type": "code",
   "execution_count": 1,
   "id": "4d498a3a",
   "metadata": {},
   "outputs": [
    {
     "name": "stdout",
     "output_type": "stream",
     "text": [
      "getting provider...\n",
      "backends available ...\n",
      "\tibmq_qasm_simulator, pending jobs:3\n",
      "\tibmq_armonk, pending jobs:6\n",
      "\tibmq_santiago, pending jobs:51\n",
      "\tibmq_bogota, pending jobs:73\n",
      "\tibmq_lima, pending jobs:1\n",
      "\tibmq_belem, pending jobs:5\n",
      "\tibmq_quito, pending jobs:12\n",
      "\tsimulator_statevector, pending jobs:2\n",
      "\tsimulator_mps, pending jobs:2\n",
      "\tsimulator_extended_stabilizer, pending jobs:1\n",
      "\tsimulator_stabilizer, pending jobs:1\n",
      "\tibmq_manila, pending jobs:31\n"
     ]
    }
   ],
   "source": [
    "import qiskit\n",
    "import time, math\n",
    "\n",
    "from qiskit import QuantumCircuit, execute, Aer, IBMQ\n",
    "from qiskit.compiler import transpile, assemble\n",
    "from qiskit.tools.jupyter import *\n",
    "from qiskit.visualization import *\n",
    "from qiskit.providers.jobstatus import JOB_FINAL_STATES, JobStatus\n",
    "from qiskit import QuantumCircuit, QuantumRegister, ClassicalRegister, execute, Aer\n",
    "\n",
    "qiskit.__qiskit_version__\n",
    "\n",
    "#initialization\n",
    "import matplotlib.pyplot as plt\n",
    "import numpy as np\n",
    "\n",
    "# what is this?\n",
    "from qiskit.providers.ibmq import least_busy\n",
    "\n",
    "args_g = []\n",
    "\n",
    "# your api token from IBM, first time run.\n",
    "# after that None is good\n",
    "\n",
    "#api_token = 'abcdefghijklmnopqrstuvwxyz'\n",
    "api_token = None \n",
    "\n",
    "def load_or_save_IBMQ_account(api_token=None):\n",
    "    global args_g\n",
    "    print('getting provider...')\n",
    "    if api_token:\n",
    "        # only needs to be done once\n",
    "        # then is stored in e.g. ~/.qistkit/qiskitrc\n",
    "        IBMQ.save_account(api_token)\n",
    "    provider = IBMQ.load_account()\n",
    "    return provider\n",
    "\n",
    "def list_backends(provider):\n",
    "    global args_g\n",
    "    print('backends available ...')\n",
    "    backends = provider.backends()\n",
    "    for be in backends:\n",
    "        st = be.status()\n",
    "        if st.operational:\n",
    "            print(f'\\t{be.name()}, pending jobs:{st.pending_jobs}')\n",
    "\n",
    "            \n",
    "def run_quantum_circuit_on_backend(quantum_circuit,provider,backend):\n",
    "    backend = provider.get_backend(backend)\n",
    "    qobj = assemble(transpile(quantum_circuit, backend=backend), backend=backend)\n",
    "    job = backend.run(qobj)\n",
    "    return job\n",
    "\n",
    "\n",
    "def wait_for_job(backend, job, wait_interval=5):\n",
    "    backend = provider.get_backend(backend)\n",
    "    retrieved_job = backend.retrieve_job(job.job_id())\n",
    "    start_time = time.time()\n",
    "    job_status = job.status()\n",
    "    while job_status not in JOB_FINAL_STATES:\n",
    "        print(f'Status @ {time.time() - start_time:0.0f} s: {job_status.name},'\n",
    "              f' est. queue position: {job.queue_position()}')\n",
    "        time.sleep(wait_interval)\n",
    "        job_status = job.status()\n",
    "\n",
    "\n",
    "provider = load_or_save_IBMQ_account(api_token)\n",
    "list_backends(provider)\n",
    "\n",
    "# choose your backend\n",
    "\n",
    "backend = 'ibmq_qasm_simulator'\n",
    "#backend = 'ibmq_armonk'\n",
    "#backend = 'ibmq_vigo'\n",
    "#backend = 'ibmq_london'\n",
    "#backend = 'ibmq_lima'\n",
    "\n",
    "# and so forth ... chose from the results given by provider.backends()"
   ]
  },
  {
   "cell_type": "code",
   "execution_count": 2,
   "id": "28f7e79d",
   "metadata": {},
   "outputs": [
    {
     "data": {
      "text/html": [
       "<pre style=\"word-wrap: normal;white-space: pre;background: #fff0;line-height: 1.1;font-family: &quot;Courier New&quot;,Courier,monospace\">              ░ ┌───┐ ░ ┌───┐     ┌───┐ ░ ┌───┐┌───┐                ░ ┌───┐»\n",
       "   q_0: ──────░─┤ H ├─░─┤ X ├──■──┤ X ├─░─┤ H ├┤ X ├───────■────────░─┤ X ├»\n",
       "              ░ ├───┤ ░ └───┘  │  └───┘ ░ ├───┤├───┤       │        ░ ├───┤»\n",
       "   q_1: ──────░─┤ H ├─░────────■────────░─┤ H ├┤ X ├───────■────────░─┤ X ├»\n",
       "              ░ ├───┤ ░        │        ░ ├───┤├───┤┌───┐┌─┴─┐┌───┐ ░ ├───┤»\n",
       "   q_2: ──────░─┤ H ├─░────────■────────░─┤ H ├┤ X ├┤ H ├┤ X ├┤ H ├─░─┤ X ├»\n",
       "        ┌───┐ ░ ├───┤ ░      ┌─┴─┐      ░ ├───┤└───┘└───┘└───┘└───┘ ░ └───┘»\n",
       "   q_3: ┤ X ├─░─┤ H ├─░──────┤ X ├──────░─┤ H ├─────────────────────░──────»\n",
       "        └───┘ ░ └───┘ ░      └───┘      ░ └───┘                     ░      »\n",
       "meas: 4/═══════════════════════════════════════════════════════════════════»\n",
       "                                                                           »\n",
       "«        ┌───┐ ░ ┌─┐         \n",
       "«   q_0: ┤ H ├─░─┤M├─────────\n",
       "«        ├───┤ ░ └╥┘┌─┐      \n",
       "«   q_1: ┤ H ├─░──╫─┤M├──────\n",
       "«        ├───┤ ░  ║ └╥┘┌─┐   \n",
       "«   q_2: ┤ H ├─░──╫──╫─┤M├───\n",
       "«        └───┘ ░  ║  ║ └╥┘┌─┐\n",
       "«   q_3: ──────░──╫──╫──╫─┤M├\n",
       "«              ░  ║  ║  ║ └╥┘\n",
       "«meas: 4/═════════╩══╩══╩══╩═\n",
       "«                 0  1  2  3 </pre>"
      ],
      "text/plain": [
       "              ░ ┌───┐ ░ ┌───┐     ┌───┐ ░ ┌───┐┌───┐                ░ ┌───┐»\n",
       "   q_0: ──────░─┤ H ├─░─┤ X ├──■──┤ X ├─░─┤ H ├┤ X ├───────■────────░─┤ X ├»\n",
       "              ░ ├───┤ ░ └───┘  │  └───┘ ░ ├───┤├───┤       │        ░ ├───┤»\n",
       "   q_1: ──────░─┤ H ├─░────────■────────░─┤ H ├┤ X ├───────■────────░─┤ X ├»\n",
       "              ░ ├───┤ ░        │        ░ ├───┤├───┤┌───┐┌─┴─┐┌───┐ ░ ├───┤»\n",
       "   q_2: ──────░─┤ H ├─░────────■────────░─┤ H ├┤ X ├┤ H ├┤ X ├┤ H ├─░─┤ X ├»\n",
       "        ┌───┐ ░ ├───┤ ░      ┌─┴─┐      ░ ├───┤└───┘└───┘└───┘└───┘ ░ └───┘»\n",
       "   q_3: ┤ X ├─░─┤ H ├─░──────┤ X ├──────░─┤ H ├─────────────────────░──────»\n",
       "        └───┘ ░ └───┘ ░      └───┘      ░ └───┘                     ░      »\n",
       "meas: 4/═══════════════════════════════════════════════════════════════════»\n",
       "                                                                           »\n",
       "«        ┌───┐ ░ ┌─┐         \n",
       "«   q_0: ┤ H ├─░─┤M├─────────\n",
       "«        ├───┤ ░ └╥┘┌─┐      \n",
       "«   q_1: ┤ H ├─░──╫─┤M├──────\n",
       "«        ├───┤ ░  ║ └╥┘┌─┐   \n",
       "«   q_2: ┤ H ├─░──╫──╫─┤M├───\n",
       "«        └───┘ ░  ║  ║ └╥┘┌─┐\n",
       "«   q_3: ──────░──╫──╫──╫─┤M├\n",
       "«              ░  ║  ║  ║ └╥┘\n",
       "«meas: 4/═════════╩══╩══╩══╩═\n",
       "«                 0  1  2  3 "
      ]
     },
     "execution_count": 2,
     "metadata": {},
     "output_type": "execute_result"
    }
   ],
   "source": [
    "# grover on 3\n",
    "\n",
    "n = 4\n",
    "grover_circuit = QuantumCircuit(n)\n",
    "\n",
    "# |1> to flip sign\n",
    "grover_circuit.x(3)\n",
    "grover_circuit.barrier()\n",
    "# superimpose all inputs\n",
    "for i in range(n):\n",
    "    grover_circuit.h(i)\n",
    "\n",
    "grover_circuit.barrier()\n",
    "\n",
    "# start of oracle\n",
    "grover_circuit.x(0)\n",
    "grover_circuit.mct([0,1,2],3)\n",
    "grover_circuit.x(0)\n",
    "# end of oracle\n",
    "\n",
    "grover_circuit.barrier()\n",
    "\n",
    "# start of amplification\n",
    "for i in range(n):\n",
    "    grover_circuit.h(i)\n",
    "for i in range(n-1):\n",
    "    grover_circuit.x(i)\n",
    "# synthesize a controlled z\n",
    "grover_circuit.h(2)\n",
    "grover_circuit.mcx([0,1],2)\n",
    "grover_circuit.h(2)\n",
    "# controlled z synthesized\n",
    "grover_circuit.barrier()\n",
    "for i in range(n-1):\n",
    "    grover_circuit.x(i)\n",
    "for i in range(3):\n",
    "    grover_circuit.h(i)\n",
    "# end of amplification\n",
    "    \n",
    "grover_circuit.measure_all()\n",
    "grover_circuit.draw()\n",
    "\n"
   ]
  },
  {
   "cell_type": "code",
   "execution_count": 3,
   "id": "140dd855",
   "metadata": {},
   "outputs": [
    {
     "data": {
      "image/png": "[encoded data removed]",
      "text/plain": [
       "<Figure size 504x360 with 1 Axes>"
      ]
     },
     "execution_count": 3,
     "metadata": {},
     "output_type": "execute_result"
    }
   ],
   "source": [
    "aer_sim = Aer.get_backend('aer_simulator')\n",
    "transpiled_grover_circuit = transpile(grover_circuit, aer_sim)\n",
    "qobj = assemble(transpiled_grover_circuit)\n",
    "results = aer_sim.run(qobj).result()\n",
    "counts = results.get_counts()\n",
    "plot_histogram(counts)"
   ]
  },
  {
   "cell_type": "code",
   "execution_count": 4,
   "id": "d0a5f26f",
   "metadata": {},
   "outputs": [
    {
     "name": "stdout",
     "output_type": "stream",
     "text": [
      "results: waiting for results from backend ibmq_lima ...\n"
     ]
    },
    {
     "name": "stderr",
     "output_type": "stream",
     "text": [
      "/var/folders/x7/99kj7q8d23966f07qr0q71bm0000gn/T/ipykernel_6317/4015517084.py:51: DeprecationWarning: Passing a Qobj to Backend.run is deprecated and will be removed in a future release. Please pass in circuits or pulse schedules instead.\n",
      "  job = backend.run(qobj)\n"
     ]
    },
    {
     "name": "stdout",
     "output_type": "stream",
     "text": [
      "Status @ 0 s: VALIDATING, est. queue position: None\n",
      "Status @ 5 s: RUNNING, est. queue position: None\n",
      "Status @ 11 s: RUNNING, est. queue position: None\n",
      "results: {'0000': 28, '0001': 26, '0010': 19, '0011': 24, '0100': 27, '0101': 16, '0110': 39, '0111': 17, '1000': 69, '1001': 108, '1010': 88, '1011': 63, '1100': 89, '1101': 58, '1110': 300, '1111': 53}\n"
     ]
    },
    {
     "data": {
      "image/png": "[encoded data removed]",
      "text/plain": [
       "<Figure size 504x360 with 1 Axes>"
      ]
     },
     "execution_count": 4,
     "metadata": {},
     "output_type": "execute_result"
    }
   ],
   "source": [
    "\n",
    "backend = 'ibmq_lima'   # ibmq_lima, ibmq_belem, ibmq_qasm_simulator\n",
    "\n",
    "print(f'results: waiting for results from backend {backend} ...')\n",
    "job = run_quantum_circuit_on_backend(grover_circuit,provider,backend)\n",
    "wait_for_job(backend, job)\n",
    "result = job.result()\n",
    "print(f'results: {result.get_counts()}')\n",
    "plot_histogram(result.get_counts())"
   ]
  },
  {
   "cell_type": "code",
   "execution_count": null,
   "id": "838a578d",
   "metadata": {},
   "outputs": [],
   "source": []
  }
 ],
 "metadata": {
  "kernelspec": {
   "display_name": "Python 3 (ipykernel)",
   "language": "python",
   "name": "python3"
  },
  "language_info": {
   "codemirror_mode": {
    "name": "ipython",
    "version": 3
   },
   "file_extension": ".py",
   "mimetype": "text/x-python",
   "name": "python",
   "nbconvert_exporter": "python",
   "pygments_lexer": "ipython3",
   "version": "3.10.4"
  }
 },
 "nbformat": 4,
 "nbformat_minor": 5
}
